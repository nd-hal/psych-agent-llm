{
 "cells": [
  {
   "cell_type": "markdown",
   "metadata": {},
   "source": [
    "# FIPI followup experiment with LLama3\n",
    "\n",
    "\n",
    "FIPI text in prompt that we'll modify:\n",
    "\n",
    "options for values are \"strongly agree,\" \"agree,\" \"disagree,\" \"strongly disagree,\" \"neutral,\" and \"unknown\"\n",
    "\n",
    "You agree that you are extraverted and enthusiastic. You agree that you are agreeable and kind. You agree that you are dependable and organized. You agree that you are emotionally stable and calm. You agree that you are open to experience and imaginative."
   ]
  },
  {
   "cell_type": "code",
   "execution_count": null,
   "metadata": {},
   "outputs": [
    {
     "name": "stdout",
     "output_type": "stream",
     "text": [
      "r8_baDLVQqQ4N8EbqCEVw3AXfCNnDYZ56e0DFvsw\n"
     ]
    }
   ],
   "source": [
    "import os\n",
    "import replicate\n",
    "os.environ[\"REPLICATE_API_TOKEN\"] = \"\"\n",
    "\n",
    "print(os.environ.get(\"REPLICATE_API_TOKEN\"))\n"
   ]
  },
  {
   "cell_type": "code",
   "execution_count": 19,
   "metadata": {},
   "outputs": [],
   "source": [
    "import json\n",
    "import re\n",
    "\n",
    "# we're using the all_4 file and regular expressions to drop the necessary dimension.\n",
    "\n",
    "dimensions = {\n",
    "    \"extraverted\": \"extraverted and enthusiastic\",\n",
    "    \"agreeable\": \"agreeable and kind\",\n",
    "    \"conscientiousness\": \"dependable and organized\",\n",
    "    \"stable\": \"emotionally stable and calm\",\n",
    "    \"open\": \"open to new experiences and imaginative\"\n",
    "}\n",
    "\n",
    "fipiPrompts = {\n",
    "    \"open\": \"The degree to which an individual is creative and imaginative or conventional and grounded. Made up of imagination, artistic interests, emotionality, adventurousness, intellect, and liberalism facets.\",\n",
    "    \"conscientiousness\": \"The measurement of an individual’s ability to control their impulses. Made up of self-efficacy, orderliness, dutifulness, achievement striving, self-discipline, and cautiousness facets.\",\n",
    "    \"extraverted\": \"The extent to which someone is out-going and enjoys interacting with the external world. Made up of friendliness, gregariousness, assertiveness, activity level, excitement seeking, and cheerfulness facets.\",\n",
    "    \"agreeable\": \"The measure of social harmony, non-confrontation & cooperation that an individual may pursue. Made up of trust, morality, altruism, cooperation, modesty, and sympathy facets.\",\n",
    "    \"stable\": \"The extent to which someone reacts less emotionally and is less easily upset. They tend to be emotionally stable, calm, and do not constantly experience negative feelings. Made up of stress-resistant, positive attitude, and self-confident\"\n",
    "}\n",
    "\n",
    "questionPrompt = \"How much do you agree that the following characteristics describe you? To answer this question use only one number: write 1 if you disagree strongly, write 2 if you disagree a little, write 3 if you neither agree nor disagree, write 4 if you agree a little, write 5 if you strongly agree. Write only one number according to the instructions WITHOUT ANY ADDITIONAL TEXT. \"\n",
    "\n",
    "def load_jsonl(filepath):\n",
    "    with open(filepath, 'r') as file:\n",
    "        data = [json.loads(line) for line in file]\n",
    "    return data\n",
    "\n",
    "def update_message(messages, fipiDimension):\n",
    "    pattern = f\"You (agree|strongly agree|disagree|strongly disagree|unknown|neutral) that you are {dimensions[fipiDimension]}.\"\n",
    "    message = messages[0]['content']\n",
    "\n",
    "    newMessage = re.sub(\n",
    "        pattern,\n",
    "        \"\",\n",
    "        message\n",
    "    )\n",
    "    messages[0]['content'] = newMessage\n",
    "    messages.append({\"role\": \"user\", \"content\": f\"{questionPrompt}: {fipiPrompts[fipiDimension]}\"})\n",
    "\n",
    "    return messages\n",
    "\n",
    "\n",
    "# roles are system, user, and assistant\n",
    "# first one is system\n",
    "def generate_prompt_format(messages):\n",
    "    prompt = \"<|begin_of_text|>\"\n",
    "\n",
    "    for message in messages:\n",
    "        role = message[\"role\"]\n",
    "        content = message[\"content\"]\n",
    "        prompt += f\"<|start_header_id|>{role}<|end_header_id|>\\n\\n{content}<|eot_id|>\"\n",
    "    prompt += \"<|start_header_id|>assistant<|end_header_id|>\\n\\n\"\n",
    "    return prompt\n",
    "\n",
    "\n",
    "def call_llama_replicate(text):\n",
    "    promptText = generate_prompt_format(text)\n",
    "    result = replicate.run(\n",
    "    \"meta/meta-llama-3-70b-instruct\",\n",
    "    input={\n",
    "        \"top_p\": 0.9,\n",
    "        \"prompt\": promptText,\n",
    "        \"max_tokens\":200,\n",
    "        \"min_tokens\": 0,\n",
    "        \"temperature\": 0.6,\n",
    "        \"prompt_template\": \"{prompt}\",\n",
    "        \"presence_penalty\": 1.15\n",
    "    },\n",
    "    )\n",
    "    return(\"\".join(result))\n",
    "\n",
    "def perform_experiment(json_data):\n",
    "    responses = []\n",
    "    for idx in range(len(json_data)):\n",
    "        system_messages = json_data[idx]\n",
    "\n",
    "        messages = system_messages.copy()\n",
    "        #print(f'this is the message for baseline ：{condition_file}')\n",
    "        #print(messages)\n",
    "        response = call_llama_replicate(messages)\n",
    "        responses.append(response)\n",
    "\n",
    "    return responses\n",
    "\n"
   ]
  },
  {
   "cell_type": "code",
   "execution_count": 13,
   "metadata": {},
   "outputs": [],
   "source": [
    "df = load_jsonl('json_datasets/all_4.jsonl')\n"
   ]
  },
  {
   "cell_type": "code",
   "execution_count": null,
   "metadata": {},
   "outputs": [],
   "source": [
    "# this will run the experiment for \"extraverted\"\n",
    "# options for fipiDim variable are\n",
    "#  \n",
    "# extraverted\n",
    "# agreeable\n",
    "# conscientiousness\n",
    "# stable\n",
    "# open\n",
    "\n",
    "fipiDim = \"extraverted\"\n",
    "\n",
    "dfExtraverted = []\n",
    "for row in df:\n",
    "    dfExtraverted.append(update_message(row['messages'], fipiDim))\n",
    "\n",
    "samples = dfExtraverted\n",
    "results = perform_experiment(samples)\n"
   ]
  },
  {
   "cell_type": "code",
   "execution_count": 23,
   "metadata": {},
   "outputs": [
    {
     "data": {
      "text/plain": [
       "['4', '3', '3', '3', '3', '3', '3', '4', '3', '3']"
      ]
     },
     "execution_count": 23,
     "metadata": {},
     "output_type": "execute_result"
    }
   ],
   "source": [
    "results"
   ]
  }
 ],
 "metadata": {
  "kernelspec": {
   "display_name": "psych-agent-llm-9mZ57Isd-py3.12",
   "language": "python",
   "name": "python3"
  },
  "language_info": {
   "codemirror_mode": {
    "name": "ipython",
    "version": 3
   },
   "file_extension": ".py",
   "mimetype": "text/x-python",
   "name": "python",
   "nbconvert_exporter": "python",
   "pygments_lexer": "ipython3",
   "version": "3.12.9"
  }
 },
 "nbformat": 4,
 "nbformat_minor": 4
}
